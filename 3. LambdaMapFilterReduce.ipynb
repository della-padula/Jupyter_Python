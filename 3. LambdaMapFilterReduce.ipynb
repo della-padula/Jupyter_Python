{
 "cells": [
  {
   "cell_type": "markdown",
   "metadata": {},
   "source": [
    "## Using lambda function\n",
    "A lambda function is a small anonymous function.\n",
    "\n",
    "A lambda function can take any number of arguments, but can only have one expression."
   ]
  },
  {
   "cell_type": "code",
   "execution_count": 1,
   "metadata": {},
   "outputs": [
    {
     "data": {
      "text/plain": [
       "15"
      ]
     },
     "execution_count": 1,
     "metadata": {},
     "output_type": "execute_result"
    }
   ],
   "source": [
    "(lambda a:a+10)(5)"
   ]
  },
  {
   "cell_type": "code",
   "execution_count": 1,
   "metadata": {},
   "outputs": [
    {
     "data": {
      "text/plain": [
       "15"
      ]
     },
     "execution_count": 1,
     "metadata": {},
     "output_type": "execute_result"
    }
   ],
   "source": [
    "x = lambda a : a + 10\n",
    "x(5)"
   ]
  },
  {
   "cell_type": "code",
   "execution_count": 2,
   "metadata": {},
   "outputs": [
    {
     "data": {
      "text/plain": [
       "5"
      ]
     },
     "execution_count": 2,
     "metadata": {},
     "output_type": "execute_result"
    }
   ],
   "source": [
    "(lambda x, y: x + y)(2, 3)"
   ]
  },
  {
   "cell_type": "code",
   "execution_count": 2,
   "metadata": {},
   "outputs": [
    {
     "data": {
      "text/plain": [
       "30"
      ]
     },
     "execution_count": 2,
     "metadata": {},
     "output_type": "execute_result"
    }
   ],
   "source": [
    "x = lambda a, b : a * b\n",
    "x(5, 6)"
   ]
  },
  {
   "cell_type": "code",
   "execution_count": 3,
   "metadata": {},
   "outputs": [
    {
     "name": "stdout",
     "output_type": "stream",
     "text": [
      "<function <lambda> at 0x0000021CCDA4F158>\n"
     ]
    }
   ],
   "source": [
    "print(x)"
   ]
  },
  {
   "cell_type": "code",
   "execution_count": 5,
   "metadata": {},
   "outputs": [
    {
     "data": {
      "text/plain": [
       "6"
      ]
     },
     "execution_count": 5,
     "metadata": {},
     "output_type": "execute_result"
    }
   ],
   "source": [
    "# parameter로 변수 x와 func 필요\n",
    "high_ord_func = lambda x, func: x + func(x) \n",
    "high_ord_func(2, lambda x: x * x)"
   ]
  },
  {
   "cell_type": "code",
   "execution_count": 6,
   "metadata": {},
   "outputs": [
    {
     "data": {
      "text/plain": [
       "7"
      ]
     },
     "execution_count": 6,
     "metadata": {},
     "output_type": "execute_result"
    }
   ],
   "source": [
    "high_ord_func(2, lambda x: x + 3)"
   ]
  },
  {
   "cell_type": "code",
   "execution_count": 9,
   "metadata": {},
   "outputs": [
    {
     "data": {
      "text/plain": [
       "6"
      ]
     },
     "execution_count": 9,
     "metadata": {},
     "output_type": "execute_result"
    }
   ],
   "source": [
    "def square(x):\n",
    "    return x * x\n",
    "high_ord_func(2, square)"
   ]
  },
  {
   "cell_type": "code",
   "execution_count": 10,
   "metadata": {},
   "outputs": [
    {
     "data": {
      "text/plain": [
       "7"
      ]
     },
     "execution_count": 10,
     "metadata": {},
     "output_type": "execute_result"
    }
   ],
   "source": [
    "def add3(x):\n",
    "    return x+3\n",
    "high_ord_func(2,add3)"
   ]
  },
  {
   "cell_type": "markdown",
   "metadata": {},
   "source": [
    "# Python map, filter, groupby\n",
    "https://www.python-course.eu/python3_lambda.php\n",
    "http://book.pythontips.com/en/latest/map_filter.html"
   ]
  },
  {
   "cell_type": "raw",
   "metadata": {},
   "source": [
    "r = map(func, seq)\n",
    "\n",
    "The first argument func is the name of a function and \n",
    "the second a sequence (e.g. a list) seq. \n",
    "\n",
    "map() applies the function func to all the elements of the sequence seq. \n",
    "\n",
    "Before Python3, map() used to return a list, where each element of the result list was the result of the function func \n",
    "applied on the corresponding element of the list or tuple \"seq\". \n",
    "With Python 3, map() returns an iterator. "
   ]
  },
  {
   "cell_type": "markdown",
   "metadata": {},
   "source": [
    "## map example"
   ]
  },
  {
   "cell_type": "code",
   "execution_count": 12,
   "metadata": {},
   "outputs": [
    {
     "name": "stdout",
     "output_type": "stream",
     "text": [
      "[1, 4, 9, 16, 25]\n",
      "[1, 4, 9, 16, 25]\n"
     ]
    }
   ],
   "source": [
    "items = [1, 2, 3, 4, 5]\n",
    "squared = []\n",
    "for i in items:\n",
    "    squared.append(i**2)\n",
    "print(squared)\n",
    "\n",
    "items = [1, 2, 3, 4, 5]\n",
    "squared = list(map(lambda x: x**2, items))\n",
    "print(squared)"
   ]
  },
  {
   "cell_type": "code",
   "execution_count": 13,
   "metadata": {},
   "outputs": [
    {
     "name": "stdout",
     "output_type": "stream",
     "text": [
      "[1, 4, 9, 16, 25]\n"
     ]
    }
   ],
   "source": [
    "def square(x):\n",
    "    return x * x\n",
    "squared = list(map(square, items))\n",
    "print(squared)"
   ]
  },
  {
   "cell_type": "code",
   "execution_count": 1,
   "metadata": {},
   "outputs": [],
   "source": [
    " def fahrenheit(T):\n",
    "...     return ((float(9)/5)*T + 32)\n",
    "... \n",
    "def celsius(T):\n",
    "...     return (float(5)/9)*(T-32)\n",
    "... \n",
    "temperatures = (36.5, 37, 37.5, 38, 39)\n",
    "F = map(fahrenheit, temperatures)\n",
    "C = map(celsius, F)\n",
    "\n",
    "temperatures_in_Fahrenheit = list(map(fahrenheit, temperatures))\n",
    "temperatures_in_Celsius = list(map(celsius, temperatures_in_Fahrenheit))"
   ]
  },
  {
   "cell_type": "code",
   "execution_count": 2,
   "metadata": {},
   "outputs": [
    {
     "name": "stdout",
     "output_type": "stream",
     "text": [
      "<map object at 0x000001F61CE70CF8>\n",
      "[97.7, 98.60000000000001, 99.5, 100.4, 102.2]\n"
     ]
    }
   ],
   "source": [
    "print(F)\n",
    "print(temperatures_in_Fahrenheit)"
   ]
  },
  {
   "cell_type": "code",
   "execution_count": 3,
   "metadata": {
    "scrolled": true
   },
   "outputs": [
    {
     "name": "stdout",
     "output_type": "stream",
     "text": [
      "[102.56, 97.7, 99.14, 100.4, 100.03999999999999]\n",
      "[39.2, 36.5, 37.300000000000004, 38.00000000000001, 37.8]\n"
     ]
    }
   ],
   "source": [
    "C = [39.2, 36.5, 37.3, 38, 37.8] \n",
    "F = list(map(lambda x: (float(9)/5)*x + 32, C))\n",
    "print(F)\n",
    "\n",
    "C= list(map(lambda x: (float(5)/9)*(x-32), F))\n",
    "print(C)"
   ]
  },
  {
   "cell_type": "code",
   "execution_count": 15,
   "metadata": {},
   "outputs": [
    {
     "name": "stdout",
     "output_type": "stream",
     "text": [
      "['S', 'K', 'K', 'A', 'V']\n"
     ]
    }
   ],
   "source": [
    "# Upper case example\n",
    "chars = ['s', 'k', 'k', 'a', 'v']\n",
    "def change_upper_case(s):\n",
    "    return str(s).upper()\n",
    "\n",
    "map_iterator = map(change_upper_case, chars)\n",
    "output_list = list(map_iterator)\n",
    "print(output_list)"
   ]
  },
  {
   "cell_type": "code",
   "execution_count": 16,
   "metadata": {},
   "outputs": [
    {
     "name": "stdout",
     "output_type": "stream",
     "text": [
      "['S', 'K', 'K', 'A', 'V']\n"
     ]
    }
   ],
   "source": [
    "chars = ['s', 'k', 'k', 'a', 'v']\n",
    "converted = list(map(lambda s: str(s).upper(), chars))\n",
    "print(converted)"
   ]
  },
  {
   "cell_type": "code",
   "execution_count": 17,
   "metadata": {
    "scrolled": true
   },
   "outputs": [
    {
     "name": "stdout",
     "output_type": "stream",
     "text": [
      "('KRUNAL', 'ANKIT', 'RUSHABH', 'DHAVAL', 'NEHAL')\n"
     ]
    }
   ],
   "source": [
    "# We can convert the map function iterator to the tuple and set\n",
    "names = ['krunal', 'ankit', 'rushabh', 'dhaval', 'nehal']\n",
    "convertedTuple = tuple(map(lambda s: str(s).upper(), names))\n",
    "print(convertedTuple)"
   ]
  },
  {
   "cell_type": "code",
   "execution_count": 18,
   "metadata": {},
   "outputs": [
    {
     "name": "stdout",
     "output_type": "stream",
     "text": [
      "{'NEHAL', 'ANKIT', 'KRUNAL', 'RUSHABH', 'DHAVAL'}\n"
     ]
    }
   ],
   "source": [
    "strings = ['krunal', 'ankit', 'rushabh', 'dhaval', 'nehal']\n",
    "convertedSet = set(map(lambda s: str(s).upper(), strings))\n",
    "print(convertedSet)"
   ]
  },
  {
   "cell_type": "raw",
   "metadata": {},
   "source": [
    "map() can be applied to more than one list.\n",
    "\n",
    "If one list has fewer elements than the others, map will stop when the shortest list has been consumed:"
   ]
  },
  {
   "cell_type": "code",
   "execution_count": 4,
   "metadata": {},
   "outputs": [
    {
     "name": "stdout",
     "output_type": "stream",
     "text": [
      "[18, 14, 14, 14]\n",
      "[17, 10, 19, 23]\n",
      "[37.5, 33.0, 24.5, 21.0]\n"
     ]
    }
   ],
   "source": [
    "a = [1, 2, 3, 4]\n",
    "b = [17, 12, 11, 10]\n",
    "c = [-1, -4, 5, 9]\n",
    "D = list(map(lambda x, y : x+y, a, b))\n",
    "E = list(map(lambda x, y, z : x+y+z, a, b, c))\n",
    "F = list(map(lambda x, y, z : 2.5*x + 2*y - z, a, b, c))\n",
    "print(D)\n",
    "print(E)\n",
    "print(F)\n"
   ]
  },
  {
   "cell_type": "code",
   "execution_count": 5,
   "metadata": {
    "scrolled": true
   },
   "outputs": [
    {
     "data": {
      "text/plain": [
       "[37.5, 33.0, 24.5]"
      ]
     },
     "execution_count": 5,
     "metadata": {},
     "output_type": "execute_result"
    }
   ],
   "source": [
    "a = [1, 2, 3]\n",
    "b = [17, 12, 11, 10]\n",
    "c = [-1, -4, 5, 9]\n",
    "list(map(lambda x, y, z : 2.5*x + 2*y - z, a, b, c))\n"
   ]
  },
  {
   "cell_type": "code",
   "execution_count": 21,
   "metadata": {},
   "outputs": [
    {
     "name": "stdout",
     "output_type": "stream",
     "text": [
      "243\n",
      "1024\n"
     ]
    },
    {
     "data": {
      "text/plain": [
       "[243, 1024]"
      ]
     },
     "execution_count": 21,
     "metadata": {},
     "output_type": "execute_result"
    }
   ],
   "source": [
    "print(pow(3,5))\n",
    "print(pow(2,10))\n",
    "list(map(pow, [3,2], [5,10]))"
   ]
  },
  {
   "cell_type": "code",
   "execution_count": 14,
   "metadata": {
    "scrolled": true
   },
   "outputs": [
    {
     "name": "stdout",
     "output_type": "stream",
     "text": [
      "[0, 0]\n",
      "[1, 2]\n",
      "[4, 4]\n",
      "[9, 6]\n",
      "[16, 8]\n"
     ]
    }
   ],
   "source": [
    "# Instead of a list of inputs we can even have a list of functions!\n",
    "def multiply(x):\n",
    "    return (x*x)\n",
    "def add(x):\n",
    "    return (x+x)\n",
    "\n",
    "funcs = [multiply, add]\n",
    "for i in range(5):\n",
    "    value = list(map(lambda x: x(i), funcs)) # x becomes multiple, add\n",
    "    print(value)"
   ]
  },
  {
   "cell_type": "markdown",
   "metadata": {},
   "source": [
    "## Iterating Over a Dictionary Using Map and Lambda"
   ]
  },
  {
   "cell_type": "code",
   "execution_count": 14,
   "metadata": {},
   "outputs": [
    {
     "name": "stdout",
     "output_type": "stream",
     "text": [
      "['python', 'java']\n",
      "[100, 80]\n",
      "[True, False]\n"
     ]
    }
   ],
   "source": [
    "dict_a = [{'name': 'python', 'points': 10}, {'name': 'java', 'points': 8}]\n",
    "  \n",
    "A = map(lambda x : x['name'], dict_a) # Output: ['python', 'java']\n",
    "  \n",
    "B = map(lambda x : x['points']*10,  dict_a) # Output: [100, 80]\n",
    "\n",
    "C = map(lambda x : x['name'] == \"python\", dict_a) # Output: [True, False]\n",
    "print(list(A))\n",
    "print(list(B))\n",
    "print(list(C))"
   ]
  },
  {
   "cell_type": "markdown",
   "metadata": {},
   "source": [
    "# Filter \n",
    " filter extracts each element in the sequence for which the function returns True <br>\n",
    " Syntax : filter(function, iterable) <br>\n",
    " iterable - iterable which is to be filtered, could be sets, lists, tuples, or containers of any iterators"
   ]
  },
  {
   "cell_type": "code",
   "execution_count": 25,
   "metadata": {},
   "outputs": [
    {
     "name": "stdout",
     "output_type": "stream",
     "text": [
      "range(-5, 5)\n"
     ]
    },
    {
     "data": {
      "text/plain": [
       "[-5, -4, -3, -2, -1, 0, 1, 2, 3, 4]"
      ]
     },
     "execution_count": 25,
     "metadata": {},
     "output_type": "execute_result"
    }
   ],
   "source": [
    "print(range(-5,5))\n",
    "list(range(-5,5))"
   ]
  },
  {
   "cell_type": "code",
   "execution_count": 24,
   "metadata": {},
   "outputs": [
    {
     "name": "stdout",
     "output_type": "stream",
     "text": [
      "[-5, -4, -3, -2, -1]\n"
     ]
    }
   ],
   "source": [
    "a = filter(lambda x: x <0, range(-5,5))\n",
    "print(list(a))"
   ]
  },
  {
   "cell_type": "code",
   "execution_count": 27,
   "metadata": {},
   "outputs": [
    {
     "data": {
      "text/plain": [
       "[2, 3, 5, 7]"
      ]
     },
     "execution_count": 27,
     "metadata": {},
     "output_type": "execute_result"
    }
   ],
   "source": [
    "# use case for filter(): finding intersection of two lists:\n",
    "a = [1,2,3,5,7,9]\n",
    "b = [2,3,5,6,7,8]\n",
    "list(filter(lambda x: x in a, b))"
   ]
  },
  {
   "cell_type": "code",
   "execution_count": 30,
   "metadata": {},
   "outputs": [
    {
     "data": {
      "text/plain": [
       "[18, 24, 32]"
      ]
     },
     "execution_count": 30,
     "metadata": {},
     "output_type": "execute_result"
    }
   ],
   "source": [
    "ages = [5, 12, 17, 18, 24, 32]\n",
    "\n",
    "def myFunc(x):\n",
    "  if x < 18:\n",
    "    return False\n",
    "  else:\n",
    "    return True\n",
    "\n",
    "adults = filter(myFunc, ages)\n",
    "list(adults)"
   ]
  },
  {
   "cell_type": "code",
   "execution_count": 33,
   "metadata": {},
   "outputs": [
    {
     "data": {
      "text/plain": [
       "[18, 24, 32]"
      ]
     },
     "execution_count": 33,
     "metadata": {},
     "output_type": "execute_result"
    }
   ],
   "source": [
    "list(filter(lambda x : x >=18, ages))"
   ]
  },
  {
   "cell_type": "code",
   "execution_count": 34,
   "metadata": {},
   "outputs": [
    {
     "name": "stdout",
     "output_type": "stream",
     "text": [
      "The filtered vowels are:\n",
      "a\n",
      "e\n",
      "i\n",
      "o\n"
     ]
    }
   ],
   "source": [
    "# list of alphabets\n",
    "alphabets = ['a', 'b', 'd', 'e', 'i', 'j', 'o']\n",
    "\n",
    "# function that filters vowels\n",
    "def filterVowels(alphabet):\n",
    "    vowels = ['a', 'e', 'i', 'o', 'u']\n",
    "\n",
    "    if(alphabet in vowels):\n",
    "        return True\n",
    "    else:\n",
    "        return False\n",
    "\n",
    "filteredVowels = filter(filterVowels, alphabets)\n",
    "\n",
    "print('The filtered vowels are:')\n",
    "for vowel in filteredVowels:\n",
    "    print(vowel)"
   ]
  },
  {
   "cell_type": "code",
   "execution_count": 36,
   "metadata": {},
   "outputs": [
    {
     "name": "stdout",
     "output_type": "stream",
     "text": [
      "Filtered List :  ['hi', 'is', 'us']\n"
     ]
    }
   ],
   "source": [
    "listOfStr = ['hi', 'this' , 'is', 'a', 'very', 'simple', 'string' , 'for', 'us']\n",
    "\n",
    "filteredList = list(filter(lambda x : len(x) == 2 , listOfStr))\n",
    " \n",
    "print('Filtered List : ', filteredList)"
   ]
  },
  {
   "cell_type": "code",
   "execution_count": 38,
   "metadata": {
    "scrolled": true
   },
   "outputs": [
    {
     "data": {
      "text/plain": [
       "'this is'"
      ]
     },
     "execution_count": 38,
     "metadata": {},
     "output_type": "execute_result"
    }
   ],
   "source": [
    "# join\n",
    "\" \".join(['this','is'])"
   ]
  },
  {
   "cell_type": "code",
   "execution_count": 43,
   "metadata": {},
   "outputs": [
    {
     "data": {
      "text/plain": [
       "True"
      ]
     },
     "execution_count": 43,
     "metadata": {},
     "output_type": "execute_result"
    }
   ],
   "source": [
    "'t' not in ['s']"
   ]
  },
  {
   "cell_type": "code",
   "execution_count": 46,
   "metadata": {},
   "outputs": [
    {
     "data": {
      "text/plain": [
       "False"
      ]
     },
     "execution_count": 46,
     "metadata": {},
     "output_type": "execute_result"
    }
   ],
   "source": [
    "'s' not in ['s']"
   ]
  },
  {
   "cell_type": "code",
   "execution_count": 2,
   "metadata": {},
   "outputs": [
    {
     "data": {
      "text/plain": [
       "['H',\n",
       " 'i',\n",
       " ' ',\n",
       " 't',\n",
       " 'h',\n",
       " 'i',\n",
       " ' ',\n",
       " 'i',\n",
       " ' ',\n",
       " ' ',\n",
       " 'm',\n",
       " 'p',\n",
       " 'l',\n",
       " 'e',\n",
       " ' ',\n",
       " 't',\n",
       " 'r',\n",
       " 'i',\n",
       " 'n',\n",
       " 'g',\n",
       " ',',\n",
       " ' ',\n",
       " ' ',\n",
       " 'v',\n",
       " 'e',\n",
       " 'r',\n",
       " 'y',\n",
       " ' ',\n",
       " 'm',\n",
       " 'p',\n",
       " 'l',\n",
       " 'e',\n",
       " ' ',\n",
       " 't',\n",
       " 'r',\n",
       " 'i',\n",
       " 'n',\n",
       " 'g']"
      ]
     },
     "execution_count": 2,
     "metadata": {},
     "output_type": "execute_result"
    }
   ],
   "source": [
    "strObj = 'Hi this is a sample string, a very sample string'\n",
    "list((filter(lambda x: x not in ['a', 's'], strObj)))"
   ]
  },
  {
   "cell_type": "code",
   "execution_count": 37,
   "metadata": {
    "scrolled": true
   },
   "outputs": [
    {
     "name": "stdout",
     "output_type": "stream",
     "text": [
      "Filtered Characters  :  Hi thi i  mple tring,  very mple tring\n"
     ]
    }
   ],
   "source": [
    "strObj = 'Hi this is a sample string, a very sample string'\n",
    "\n",
    "filteredChars = ''.join((filter(lambda x: x not in ['a', 's'], strObj)))\n",
    " \n",
    "print('Filtered Characters  : ', filteredChars)"
   ]
  },
  {
   "cell_type": "code",
   "execution_count": 47,
   "metadata": {},
   "outputs": [
    {
     "name": "stdout",
     "output_type": "stream",
     "text": [
      "Filtered Array  :  [1, 4, 21, 33, 45, 77, 88, 99, 32, 55, 77, 22, 4]\n"
     ]
    }
   ],
   "source": [
    "array1 = [1,3,4,5,21,33,45,66,77,88,99,5,3,32,55,66,77,22,3,4,5]\n",
    "array2 = [5,3,66]\n",
    "\n",
    "filteredArray = list(filter(lambda x : x not in array2, array1))\n",
    "print('Filtered Array  : ', filteredArray)"
   ]
  },
  {
   "cell_type": "markdown",
   "metadata": {},
   "source": [
    "# Reduce <br>\n",
    "reduce(function, iterable[,initializer]) <br>\n",
    "- Reduce will apply function to each element in iterable along with the sum so far and create a cumulative sum of the results <br>\n",
    "- function must take two parameters<br>\n",
    "- If initializer is provided, initializer will stand as the first argument in the sum\n"
   ]
  },
  {
   "cell_type": "code",
   "execution_count": 29,
   "metadata": {},
   "outputs": [
    {
     "data": {
      "text/plain": [
       "24"
      ]
     },
     "execution_count": 29,
     "metadata": {},
     "output_type": "execute_result"
    }
   ],
   "source": [
    "from functools import reduce\n",
    "reduce( (lambda x, y: x * y), [1, 2, 3, 4] )"
   ]
  },
  {
   "cell_type": "code",
   "execution_count": 48,
   "metadata": {},
   "outputs": [
    {
     "data": {
      "text/plain": [
       "2400"
      ]
     },
     "execution_count": 48,
     "metadata": {},
     "output_type": "execute_result"
    }
   ],
   "source": [
    "reduce( (lambda x, y: x * y), [1, 2, 3, 4], 100 )"
   ]
  },
  {
   "cell_type": "code",
   "execution_count": 49,
   "metadata": {},
   "outputs": [
    {
     "name": "stdout",
     "output_type": "stream",
     "text": [
      "15\n"
     ]
    }
   ],
   "source": [
    "list = [1,2,3,4,5]\n",
    "s = reduce(lambda x,y: x+y,  list)\n",
    "print(s)"
   ]
  },
  {
   "cell_type": "code",
   "execution_count": 53,
   "metadata": {},
   "outputs": [
    {
     "name": "stdout",
     "output_type": "stream",
     "text": [
      "10\n"
     ]
    }
   ],
   "source": [
    "list = [10,6,7,5,2,1,8,5]\n",
    "s = reduce(lambda x,y: x if (x > y) else y, list)\n",
    "print(s)\n"
   ]
  },
  {
   "cell_type": "code",
   "execution_count": 52,
   "metadata": {},
   "outputs": [
    {
     "name": "stdout",
     "output_type": "stream",
     "text": [
      "105\n"
     ]
    }
   ],
   "source": [
    "list = [10,6,7,105,2,1,8,5]\n",
    "s = reduce(lambda x,y: x if (x > y) else y, list)\n",
    "print(s)"
   ]
  },
  {
   "cell_type": "code",
   "execution_count": 54,
   "metadata": {},
   "outputs": [
    {
     "name": "stdout",
     "output_type": "stream",
     "text": [
      "200\n"
     ]
    }
   ],
   "source": [
    "list = [10,6,7,105,2,1,8,5]\n",
    "s = reduce(lambda x,y: x if (x > y) else y, list, 200)\n",
    "print(s)"
   ]
  },
  {
   "cell_type": "code",
   "execution_count": null,
   "metadata": {},
   "outputs": [],
   "source": []
  }
 ],
 "metadata": {
  "kernelspec": {
   "display_name": "Python 3",
   "language": "python",
   "name": "python3"
  },
  "language_info": {
   "codemirror_mode": {
    "name": "ipython",
    "version": 3
   },
   "file_extension": ".py",
   "mimetype": "text/x-python",
   "name": "python",
   "nbconvert_exporter": "python",
   "pygments_lexer": "ipython3",
   "version": "3.6.8"
  }
 },
 "nbformat": 4,
 "nbformat_minor": 2
}
